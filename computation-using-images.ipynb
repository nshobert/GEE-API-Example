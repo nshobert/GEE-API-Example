{
 "cells": [
  {
   "cell_type": "markdown",
   "metadata": {},
   "source": [
    "## Computation using Images\n",
    "Convert a javascript tutorial to python  \n",
    "https://developers.google.com/earth-engine/tutorials/tutorial_api_03  \n",
    "13 April 2022\n",
    "NSh"
   ]
  },
  {
   "cell_type": "markdown",
   "metadata": {},
   "source": [
    "### Objective\n",
    "Compute the slope of terrain by passing the SRTM elevation image to the slope method of the ee.Terrain package."
   ]
  },
  {
   "cell_type": "code",
   "execution_count": 2,
   "metadata": {},
   "outputs": [
    {
     "data": {
      "text/html": [
       "<p>To authorize access needed by Earth Engine, open the following\n",
       "        URL in a web browser and follow the instructions:</p>\n",
       "        <p><a href=https://accounts.google.com/o/oauth2/auth?client_id=517222506229-vsmmajv00ul0bs7p89v5m89qs8eb9359.apps.googleusercontent.com&scope=https%3A%2F%2Fwww.googleapis.com%2Fauth%2Fearthengine+https%3A%2F%2Fwww.googleapis.com%2Fauth%2Fdevstorage.full_control&redirect_uri=urn%3Aietf%3Awg%3Aoauth%3A2.0%3Aoob&response_type=code&code_challenge=0MwIEEMB9qZzujueXl-ZJwE4ZTExfNQFfwdhVqxY4Xk&code_challenge_method=S256>https://accounts.google.com/o/oauth2/auth?client_id=517222506229-vsmmajv00ul0bs7p89v5m89qs8eb9359.apps.googleusercontent.com&scope=https%3A%2F%2Fwww.googleapis.com%2Fauth%2Fearthengine+https%3A%2F%2Fwww.googleapis.com%2Fauth%2Fdevstorage.full_control&redirect_uri=urn%3Aietf%3Awg%3Aoauth%3A2.0%3Aoob&response_type=code&code_challenge=0MwIEEMB9qZzujueXl-ZJwE4ZTExfNQFfwdhVqxY4Xk&code_challenge_method=S256</a></p>\n",
       "        <p>The authorization workflow will generate a code, which you\n",
       "        should paste in the box below</p>\n",
       "        "
      ],
      "text/plain": [
       "<IPython.core.display.HTML object>"
      ]
     },
     "metadata": {},
     "output_type": "display_data"
    },
    {
     "name": "stdout",
     "output_type": "stream",
     "text": [
      "\n",
      "Successfully saved authorization token.\n"
     ]
    }
   ],
   "source": [
    "# Import and authenticate the GEE API\n",
    "import ee\n",
    "import collections\n",
    "collections.Callable = collections.abc.Callable\n",
    "ee.Authenticate()"
   ]
  },
  {
   "cell_type": "code",
   "execution_count": 3,
   "metadata": {},
   "outputs": [
    {
     "name": "stderr",
     "output_type": "stream",
     "text": [
      "*** Earth Engine *** Python client initialized\n"
     ]
    }
   ],
   "source": [
    "# Initialize and import packages.\n",
    "import geemap\n",
    "ee.Initialize()"
   ]
  },
  {
   "cell_type": "code",
   "execution_count": 4,
   "metadata": {},
   "outputs": [
    {
     "data": {
      "application/vnd.jupyter.widget-view+json": {
       "model_id": "7eb5013898e54ad88e7a708e6de669f6",
       "version_major": 2,
       "version_minor": 0
      },
      "text/plain": [
       "Map(center=[36.2841, -112.8598], controls=(WidgetControl(options=['position', 'transparent_bg'], widget=HBox(c…"
      ]
     },
     "metadata": {},
     "output_type": "display_data"
    }
   ],
   "source": [
    "# Load the SRTM image.\n",
    "srtm = ee.Image('CGIAR/SRTM90_V4')\n",
    "\n",
    "# Apply an algorithm to an image.\n",
    "slope = ee.Terrain.slope(srtm)\n",
    "\n",
    "# Display the result on a map centered on the Grand Canyon.\n",
    "Map = geemap.Map()\n",
    "Map.setCenter(-112.8598, 36.2841, 9)\n",
    "Map.addLayer(slope, {'min': 0, 'max': 60}, 'slope')\n",
    "Map"
   ]
  },
  {
   "cell_type": "markdown",
   "metadata": {},
   "source": [
    "### Image Math\n",
    "\n",
    "Use methods in the ee.Image class to do some math using image bands (aka band math).  \n",
    "For example, lets do some trigonometric operations on an aspect image."
   ]
  },
  {
   "cell_type": "code",
   "execution_count": 5,
   "metadata": {},
   "outputs": [
    {
     "data": {
      "application/vnd.jupyter.widget-view+json": {
       "model_id": "7eb5013898e54ad88e7a708e6de669f6",
       "version_major": 2,
       "version_minor": 0
      },
      "text/plain": [
       "Map(center=[36.2841, -112.8598], controls=(WidgetControl(options=['position', 'transparent_bg'], widget=HBox(c…"
      ]
     },
     "metadata": {},
     "output_type": "display_data"
    }
   ],
   "source": [
    "# Get the aspect (in degrees).\n",
    "aspect = ee.Terrain.aspect(srtm)\n",
    "\n",
    "# Convert to radians and compute the sine of the aspect.\n",
    "sin_image = aspect.divide(180).multiply(3.1456).sin()\n",
    "\n",
    "# Display the result.\n",
    "Map.addLayer(sin_image, {'min': -1, 'max': 1}, 'sin')\n",
    "Map"
   ]
  },
  {
   "cell_type": "markdown",
   "metadata": {},
   "source": [
    "Notice that we chained todgether multiple math methods to do complex mathematical operations on the image. Also note that in the original JS code, a constant called Math.PI was used instead of teh number 3.1456. There are two Javascript math constants, PI and E, that are not available to Python."
   ]
  },
  {
   "cell_type": "markdown",
   "metadata": {},
   "source": [
    "### Image Statistics\n",
    "\n",
    "We can also do statistical operations on images by computing pixel statistics in image regions. To compute statistics, use a reducer. See full tutorial for more info."
   ]
  },
  {
   "cell_type": "code",
   "execution_count": 14,
   "metadata": {},
   "outputs": [
    {
     "name": "stdout",
     "output_type": "stream",
     "text": [
      "Mean elevation:  ee.ComputedObject({\n",
      "  \"functionInvocationValue\": {\n",
      "    \"functionName\": \"Dictionary.get\",\n",
      "    \"arguments\": {\n",
      "      \"dictionary\": {\n",
      "        \"functionInvocationValue\": {\n",
      "          \"functionName\": \"Image.reduceRegion\",\n",
      "          \"arguments\": {\n",
      "            \"geometry\": {\n",
      "              \"functionInvocationValue\": {\n",
      "                \"functionName\": \"Feature\",\n",
      "                \"arguments\": {\n",
      "                  \"geometry\": {\n",
      "                    \"functionInvocationValue\": {\n",
      "                      \"functionName\": \"GeometryConstructors.Polygon\",\n",
      "                      \"arguments\": {\n",
      "                        \"coordinates\": {\n",
      "                          \"constantValue\": [\n",
      "                            [\n",
      "                              [\n",
      "                                35.65,\n",
      "                                -111.78\n",
      "                              ],\n",
      "                              [\n",
      "                                35.65,\n",
      "                                -111.73\n",
      "                              ],\n",
      "                              [\n",
      "                                36.6674,\n",
      "                                -111.73\n",
      "                              ],\n",
      "                              [\n",
      "                                36.6674,\n",
      "                                -111.78\n",
      "                              ]\n",
      "                            ]\n",
      "                          ]\n",
      "                        },\n",
      "                        \"evenOdd\": {\n",
      "                          \"constantValue\": true\n",
      "                        }\n",
      "                      }\n",
      "                    }\n",
      "                  },\n",
      "                  \"metadata\": {\n",
      "                    \"constantValue\": {\n",
      "                      \"fill\": 1,\n",
      "                      \"name\": \"Grand Canyon\"\n",
      "                    }\n",
      "                  }\n",
      "                }\n",
      "              }\n",
      "            },\n",
      "            \"image\": {\n",
      "              \"functionInvocationValue\": {\n",
      "                \"functionName\": \"Image.load\",\n",
      "                \"arguments\": {\n",
      "                  \"id\": {\n",
      "                    \"constantValue\": \"CGIAR/SRTM90_V4\"\n",
      "                  }\n",
      "                }\n",
      "              }\n",
      "            },\n",
      "            \"reducer\": {\n",
      "              \"functionInvocationValue\": {\n",
      "                \"functionName\": \"Reducer.mean\",\n",
      "                \"arguments\": {}\n",
      "              }\n",
      "            },\n",
      "            \"scale\": {\n",
      "              \"constantValue\": 90\n",
      "            }\n",
      "          }\n",
      "        }\n",
      "      },\n",
      "      \"key\": {\n",
      "        \"constantValue\": \"elevation\"\n",
      "      }\n",
      "    }\n",
      "  }\n",
      "})\n"
     ]
    }
   ],
   "source": [
    "# Define a polygon around the Grand Canyon.\n",
    "polygon = ee.Feature(\n",
    "    ee.Geometry.Rectangle(\n",
    "        [[35.65, -111.73], [36.6674, -111.78]]),\n",
    "    {'name': 'Grand Canyon', 'fill': 1})\n",
    "\n",
    "# Compute the mean elevation in the polygon.\n",
    "mean_dict = srtm.reduceRegion(\n",
    "    ee.Reducer.mean(), polygon, 90)\n",
    "\n",
    "# Get the mean from the dictionary and print it.\n",
    "mean = mean_dict.get('elevation')\n",
    "print('Mean elevation: ', mean)"
   ]
  }
 ],
 "metadata": {
  "interpreter": {
   "hash": "02534472eb774045f0da196ee14d76d04259e729dc29fd085d4d0178ee1569b9"
  },
  "kernelspec": {
   "display_name": "Python 3.10.0 ('google-earth-engine-API-example-C6V2-Xyk')",
   "language": "python",
   "name": "python3"
  },
  "language_info": {
   "codemirror_mode": {
    "name": "ipython",
    "version": 3
   },
   "file_extension": ".py",
   "mimetype": "text/x-python",
   "name": "python",
   "nbconvert_exporter": "python",
   "pygments_lexer": "ipython3",
   "version": "3.10.0"
  },
  "orig_nbformat": 4
 },
 "nbformat": 4,
 "nbformat_minor": 2
}
