{
 "cells": [
  {
   "cell_type": "markdown",
   "metadata": {},
   "source": [
    "## A python version of the night-time lights image.\n",
    "https://github.com/google/earthengine-api  \n",
    "13 Apr 2022  \n",
    "NSh  \n",
    "This notebook is a quick example of some band math and custom visualization."
   ]
  },
  {
   "cell_type": "code",
   "execution_count": null,
   "metadata": {},
   "outputs": [],
   "source": [
    "# Import, initialize, and authenticate the GEE API\n",
    "import ee\n",
    "import collections\n",
    "collections.Callable = collections.abc.Callable\n",
    "ee.Authenticate()"
   ]
  },
  {
   "cell_type": "code",
   "execution_count": null,
   "metadata": {},
   "outputs": [],
   "source": [
    "# Initialize and import packages.\n",
    "import geemap\n",
    "ee.Initialize()"
   ]
  },
  {
   "cell_type": "code",
   "execution_count": null,
   "metadata": {},
   "outputs": [],
   "source": [
    "#Compute the trend of night-time lights.\n",
    "\n",
    "# Add a band containing image date as years since 1991.\n",
    "def create_time_band(img):\n",
    "    year = ee.Date(img.get('system:time_start')).get('year').subtract(1991)\n",
    "    return ee.Image(year).byte().addBands(img)\n"
   ]
  },
  {
   "cell_type": "code",
   "execution_count": null,
   "metadata": {},
   "outputs": [],
   "source": [
    "# Map the time band creation helper over the night-time lights collection.\n",
    "# https://developers.google.com/earth-engine/datasets/catalog/NOAA_DMSP-OLS_NIGHTTIME_LIGHTS\n",
    "collection = (ee.ImageCollection('NOAA/DMSP-OLS/NIGHTTIME_LIGHTS')\n",
    "    .select('stable_lights')\n",
    "    .map(create_time_band))\n"
   ]
  },
  {
   "cell_type": "code",
   "execution_count": null,
   "metadata": {},
   "outputs": [],
   "source": [
    "# Compute a linear fit over the series of values at each pixel, \n",
    "# visualizing the y-intercept in green, and positive/negative slopes as red/blue.\n",
    "# Create a map centered at (lat, lon).\n",
    "Map = geemap.Map(center=[50, 5], zoom=4)\n",
    "Map.addLayer(\n",
    "    collection.reduce(ee.Reducer.linearFit()),\n",
    "    {'min': 0, 'max': [0.18, 20, -0.18], 'bands': ['scale', 'offset', 'scale']},\n",
    "    'stable lights trend')\n",
    "\n",
    "# Display map\n",
    "Map\n",
    "\n"
   ]
  }
 ],
 "metadata": {
  "interpreter": {
   "hash": "02534472eb774045f0da196ee14d76d04259e729dc29fd085d4d0178ee1569b9"
  },
  "kernelspec": {
   "display_name": "Python 3.10.0 ('google-earth-engine-API-example-C6V2-Xyk')",
   "language": "python",
   "name": "python3"
  },
  "language_info": {
   "codemirror_mode": {
    "name": "ipython",
    "version": 3
   },
   "file_extension": ".py",
   "mimetype": "text/x-python",
   "name": "python",
   "nbconvert_exporter": "python",
   "pygments_lexer": "ipython3",
   "version": "3.10.0"
  },
  "orig_nbformat": 4
 },
 "nbformat": 4,
 "nbformat_minor": 2
}
