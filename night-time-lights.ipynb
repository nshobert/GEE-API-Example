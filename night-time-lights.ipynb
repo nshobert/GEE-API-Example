{
 "cells": [
  {
   "cell_type": "markdown",
   "metadata": {},
   "source": [
    "## A python version of the night-time lights image.\n",
    "\n",
    "This notebook is a quick example of some band math and custom visualization.  \n",
    "Based on example found [here](https://github.com/google/earthengine-api)  \n",
    "13 Apr 2022  \n",
    "NSh  \n"
   ]
  },
  {
   "cell_type": "code",
   "execution_count": null,
   "metadata": {},
   "outputs": [],
   "source": [
    "# Import, initialize, and authenticate the GEE API.\n",
    "# You will be redirected to another tab. Copy the authentication code and paste below when prompted.\n",
    "import ee\n",
    "import collections\n",
    "collections.Callable = collections.abc.Callable\n",
    "ee.Authenticate()"
   ]
  },
  {
   "cell_type": "markdown",
   "metadata": {},
   "source": [
    "Uncomment the following, run the previous and following cells, and then follow the directions (restart kernel and re-comment the following cell.) You should only have to do this once."
   ]
  },
  {
   "cell_type": "code",
   "execution_count": null,
   "metadata": {},
   "outputs": [],
   "source": [
    "geemap.update_package()"
   ]
  },
  {
   "cell_type": "code",
   "execution_count": null,
   "metadata": {},
   "outputs": [],
   "source": [
    "# Initialize and import packages.\n",
    "import geemap\n",
    "ee.Initialize()"
   ]
  },
  {
   "cell_type": "markdown",
   "metadata": {},
   "source": [
    "The following cell defines a function. It will not produce any output."
   ]
  },
  {
   "cell_type": "code",
   "execution_count": null,
   "metadata": {},
   "outputs": [],
   "source": [
    "#Compute the trend of night-time lights.\n",
    "\n",
    "# Add a band containing image date as years since 1991.\n",
    "def create_time_band(img):\n",
    "    year = ee.Date(img.get('system:time_start')).get('year').subtract(1991)\n",
    "    return ee.Image(year).byte().addBands(img)\n"
   ]
  },
  {
   "cell_type": "markdown",
   "metadata": {},
   "source": [
    "The following cell imports a product by NOAA and stores it as a collection of images. Then, it \"maps\" (applies) the function we defined above to all the images in the collection. This cell does not produce visible output."
   ]
  },
  {
   "cell_type": "code",
   "execution_count": null,
   "metadata": {},
   "outputs": [],
   "source": [
    "# Map the time band creation helper over the night-time lights collection.\n",
    "# https://developers.google.com/earth-engine/datasets/catalog/NOAA_DMSP-OLS_NIGHTTIME_LIGHTS\n",
    "collection = (ee.ImageCollection('NOAA/DMSP-OLS/NIGHTTIME_LIGHTS')\n",
    "    .select('stable_lights')\n",
    "    .map(create_time_band))\n"
   ]
  },
  {
   "cell_type": "markdown",
   "metadata": {},
   "source": [
    "The following cell will produce an interactive map."
   ]
  },
  {
   "cell_type": "code",
   "execution_count": null,
   "metadata": {},
   "outputs": [],
   "source": [
    "# Compute a linear fit over the series of values at each pixel, \n",
    "# visualizing the y-intercept in green, and positive/negative slopes as red/blue.\n",
    "# Create a map centered at (lat, lon).\n",
    "Map = geemap.Map(center=[50, 5], zoom=4)\n",
    "Map.addLayer(\n",
    "    collection.reduce(ee.Reducer.linearFit()),\n",
    "    {'min': 0, 'max': [0.18, 20, -0.18], 'bands': ['scale', 'offset', 'scale']},\n",
    "    'stable lights trend')\n",
    "\n",
    "# Display map\n",
    "Map\n",
    "\n"
   ]
  },
  {
   "cell_type": "code",
   "execution_count": null,
   "metadata": {},
   "outputs": [],
   "source": []
  }
 ],
 "metadata": {
  "interpreter": {
   "hash": "02534472eb774045f0da196ee14d76d04259e729dc29fd085d4d0178ee1569b9"
  },
  "kernelspec": {
   "display_name": "Python 3 (ipykernel)",
   "language": "python",
   "name": "python3"
  },
  "language_info": {
   "codemirror_mode": {
    "name": "ipython",
    "version": 3
   },
   "file_extension": ".py",
   "mimetype": "text/x-python",
   "name": "python",
   "nbconvert_exporter": "python",
   "pygments_lexer": "ipython3",
   "version": "3.10.0"
  }
 },
 "nbformat": 4,
 "nbformat_minor": 2
}
