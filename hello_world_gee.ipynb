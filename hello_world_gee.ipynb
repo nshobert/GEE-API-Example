{
 "cells": [
  {
   "cell_type": "markdown",
   "id": "771078db",
   "metadata": {},
   "source": [
    "# This Notebook Introduces Some Simple GEE Functions\n",
    "\n",
    "## Import packages and authenticate user credentials with Google Earth Engine\n",
    "You may have to go through a series of permissions to allow Google access to  to your notebooks and to accept the terms of their cloud computing platform."
   ]
  },
  {
   "cell_type": "code",
   "execution_count": null,
   "id": "86af7a5c",
   "metadata": {},
   "outputs": [],
   "source": [
    "import ee\n",
    "import geemap\n",
    "import collections\n",
    "collections.Callable = collections.abc.Callable\n",
    "ee.Authenticate()"
   ]
  },
  {
   "cell_type": "markdown",
   "id": "a48eb1a6",
   "metadata": {},
   "source": [
    "## Initialize "
   ]
  },
  {
   "cell_type": "markdown",
   "id": "371592ad",
   "metadata": {},
   "source": [
    "Uncomment the following, run the previous and following cells, and then follow the directions (restart kernel and re-comment the following cell.) You should only have to do this once."
   ]
  },
  {
   "cell_type": "code",
   "execution_count": null,
   "id": "2a7dfc28",
   "metadata": {},
   "outputs": [],
   "source": [
    "# geemap.update_package()"
   ]
  },
  {
   "cell_type": "code",
   "execution_count": null,
   "id": "e8ede303",
   "metadata": {},
   "outputs": [],
   "source": [
    "ee.Initialize()"
   ]
  },
  {
   "cell_type": "markdown",
   "id": "effa584b",
   "metadata": {},
   "source": [
    "## Print some text\n",
    "Run the following cell. The output will include some printed text and metadata on the image we have loaded. "
   ]
  },
  {
   "cell_type": "code",
   "execution_count": null,
   "id": "2ff3bfcc-2c96-477d-8ac2-d48e8a7802d9",
   "metadata": {},
   "outputs": [],
   "source": [
    "# Hello world example \n",
    "\n",
    "# traditional python string\n",
    "print('Hello world!')\n",
    "\n",
    "# Earth Eninge object\n",
    "print(ee.String('Hello World from Earth Engine!').getInfo())\n",
    "print(ee.Image('LANDSAT/LC08/C01/T1/LC08_044034_20140318').getInfo())"
   ]
  },
  {
   "cell_type": "markdown",
   "id": "2e399335",
   "metadata": {},
   "source": [
    "## Create a map\n",
    "\n",
    "Run the following cell. Here, we are creating an interactive map widget, loading two images to the map and a feature collection, and viewing those images on the map. Once you have the map loaded, try exploring the toolboxes and layer manager to see what you can do."
   ]
  },
  {
   "cell_type": "code",
   "execution_count": null,
   "id": "290046ad",
   "metadata": {},
   "outputs": [],
   "source": [
    "# Create a map centered around some lats and lons\n",
    "\n",
    "# Create a map centered at (lat, lon).\n",
    "Map = geemap.Map(center=[40, -100], zoom=4)\n",
    "\n",
    "# Load an image.\n",
    "image = ee.Image('LANDSAT/LC08/C01/T1/LC08_044034_20140318')\n",
    "\n",
    "# Center the map on the image.\n",
    "Map.centerObject(image, 9)\n",
    "\n",
    "# Display the image in 'natural' colors using the red, green, and blue bands.\n",
    "Map.addLayer(image, {'bands': ['B4','B3','B2'], 'min': 0, 'max':10000, 'gamma': 0.5}, 'Landsat 8 original image')\n",
    "\n",
    "# Define false color visualization parameters in an object literal.\n",
    "vizParams = {'bands': ['B5', 'B4', 'B3'],\n",
    "             'min': 5000, 'max': 15000, 'gamma': 1.3}\n",
    "\n",
    "# Center the map on the image and display.\n",
    "Map.centerObject(image, 9)\n",
    "Map.addLayer(image, vizParams, 'Landsat 8 False color')\n",
    "\n",
    "# Use Map.addLayer() to add features and feature collections to the map. For example,\n",
    "counties = ee.FeatureCollection('TIGER/2016/Counties')\n",
    "Map.addLayer(ee.Image().paint(counties, 0, 2), {}, 'counties')\n",
    "\n",
    "# Display the map.\n",
    "Map"
   ]
  },
  {
   "cell_type": "code",
   "execution_count": null,
   "id": "35c8723c",
   "metadata": {},
   "outputs": [],
   "source": []
  }
 ],
 "metadata": {
  "interpreter": {
   "hash": "245c8bc32b1cd43434b1538c33cc836c3821dc7158c8e918849fa1752d367fbd"
  },
  "kernelspec": {
   "display_name": "Python 3 (ipykernel)",
   "language": "python",
   "name": "python3"
  },
  "language_info": {
   "codemirror_mode": {
    "name": "ipython",
    "version": 3
   },
   "file_extension": ".py",
   "mimetype": "text/x-python",
   "name": "python",
   "nbconvert_exporter": "python",
   "pygments_lexer": "ipython3",
   "version": "3.10.0"
  }
 },
 "nbformat": 4,
 "nbformat_minor": 5
}
